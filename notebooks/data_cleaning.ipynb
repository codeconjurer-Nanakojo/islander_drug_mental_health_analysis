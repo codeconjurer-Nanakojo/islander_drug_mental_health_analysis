{
 "cells": [
  {
   "cell_type": "code",
   "id": "initial_id",
   "metadata": {
    "collapsed": true,
    "ExecuteTime": {
     "end_time": "2025-10-22T22:44:09.469603Z",
     "start_time": "2025-10-22T22:44:05.266224Z"
    }
   },
   "source": [
    "import pandas as pd\n",
    "import  numpy as np\n",
    "import matplotlib.pyplot as plt\n",
    "import seaborn as sns\n"
   ],
   "outputs": [],
   "execution_count": 2
  },
  {
   "metadata": {
    "ExecuteTime": {
     "end_time": "2025-10-22T22:45:54.493431Z",
     "start_time": "2025-10-22T22:45:54.404196Z"
    }
   },
   "cell_type": "code",
   "source": [
    "path_to_data= '../data/data.csv'\n",
    "data = pd.read_csv(path_to_data)\n",
    "# Display the first few rows of the dataset\n",
    "data.head()"
   ],
   "id": "1d7be65337ef0ed5",
   "outputs": [
    {
     "data": {
      "text/plain": [
       "   Unnamed: 0  index first_name last_name  age Happy_Sad_group  Dosage Drug  \\\n",
       "0           0    150     Daichi   Steiner   37               S       1    T   \n",
       "1           1     26      Kaito  Carrasco   35               S       2    A   \n",
       "2           2     93       Sara    Castro   35               H       2    S   \n",
       "3           3    115     Ryouta  Carrasco   49               H       3    S   \n",
       "4           4     55     Daichi  Gonzalez   68               H       3    A   \n",
       "\n",
       "   Mem_Score_Before  Mem_Score_After  \n",
       "0              64.2             57.3  \n",
       "1              75.0             82.9  \n",
       "2              46.0             43.2  \n",
       "3              62.8             54.1  \n",
       "4              41.9             67.4  "
      ],
      "text/html": [
       "<div>\n",
       "<style scoped>\n",
       "    .dataframe tbody tr th:only-of-type {\n",
       "        vertical-align: middle;\n",
       "    }\n",
       "\n",
       "    .dataframe tbody tr th {\n",
       "        vertical-align: top;\n",
       "    }\n",
       "\n",
       "    .dataframe thead th {\n",
       "        text-align: right;\n",
       "    }\n",
       "</style>\n",
       "<table border=\"1\" class=\"dataframe\">\n",
       "  <thead>\n",
       "    <tr style=\"text-align: right;\">\n",
       "      <th></th>\n",
       "      <th>Unnamed: 0</th>\n",
       "      <th>index</th>\n",
       "      <th>first_name</th>\n",
       "      <th>last_name</th>\n",
       "      <th>age</th>\n",
       "      <th>Happy_Sad_group</th>\n",
       "      <th>Dosage</th>\n",
       "      <th>Drug</th>\n",
       "      <th>Mem_Score_Before</th>\n",
       "      <th>Mem_Score_After</th>\n",
       "    </tr>\n",
       "  </thead>\n",
       "  <tbody>\n",
       "    <tr>\n",
       "      <th>0</th>\n",
       "      <td>0</td>\n",
       "      <td>150</td>\n",
       "      <td>Daichi</td>\n",
       "      <td>Steiner</td>\n",
       "      <td>37</td>\n",
       "      <td>S</td>\n",
       "      <td>1</td>\n",
       "      <td>T</td>\n",
       "      <td>64.2</td>\n",
       "      <td>57.3</td>\n",
       "    </tr>\n",
       "    <tr>\n",
       "      <th>1</th>\n",
       "      <td>1</td>\n",
       "      <td>26</td>\n",
       "      <td>Kaito</td>\n",
       "      <td>Carrasco</td>\n",
       "      <td>35</td>\n",
       "      <td>S</td>\n",
       "      <td>2</td>\n",
       "      <td>A</td>\n",
       "      <td>75.0</td>\n",
       "      <td>82.9</td>\n",
       "    </tr>\n",
       "    <tr>\n",
       "      <th>2</th>\n",
       "      <td>2</td>\n",
       "      <td>93</td>\n",
       "      <td>Sara</td>\n",
       "      <td>Castro</td>\n",
       "      <td>35</td>\n",
       "      <td>H</td>\n",
       "      <td>2</td>\n",
       "      <td>S</td>\n",
       "      <td>46.0</td>\n",
       "      <td>43.2</td>\n",
       "    </tr>\n",
       "    <tr>\n",
       "      <th>3</th>\n",
       "      <td>3</td>\n",
       "      <td>115</td>\n",
       "      <td>Ryouta</td>\n",
       "      <td>Carrasco</td>\n",
       "      <td>49</td>\n",
       "      <td>H</td>\n",
       "      <td>3</td>\n",
       "      <td>S</td>\n",
       "      <td>62.8</td>\n",
       "      <td>54.1</td>\n",
       "    </tr>\n",
       "    <tr>\n",
       "      <th>4</th>\n",
       "      <td>4</td>\n",
       "      <td>55</td>\n",
       "      <td>Daichi</td>\n",
       "      <td>Gonzalez</td>\n",
       "      <td>68</td>\n",
       "      <td>H</td>\n",
       "      <td>3</td>\n",
       "      <td>A</td>\n",
       "      <td>41.9</td>\n",
       "      <td>67.4</td>\n",
       "    </tr>\n",
       "  </tbody>\n",
       "</table>\n",
       "</div>"
      ]
     },
     "execution_count": 6,
     "metadata": {},
     "output_type": "execute_result"
    }
   ],
   "execution_count": 6
  },
  {
   "metadata": {
    "ExecuteTime": {
     "end_time": "2025-10-22T22:46:41.109659Z",
     "start_time": "2025-10-22T22:46:41.048487Z"
    }
   },
   "cell_type": "code",
   "source": [
    "# Check for missing values\n",
    "missing_values = data.isnull().sum()\n",
    "print(\"Missing values in each column:\\n\", missing_values)"
   ],
   "id": "bfaad6d8fbea9c7e",
   "outputs": [
    {
     "name": "stdout",
     "output_type": "stream",
     "text": [
      "Missing values in each column:\n",
      " Unnamed: 0          0\n",
      "index               0\n",
      "first_name          0\n",
      "last_name           0\n",
      "age                 0\n",
      "Happy_Sad_group     0\n",
      "Dosage              0\n",
      "Drug                0\n",
      "Mem_Score_Before    0\n",
      "Mem_Score_After     0\n",
      "dtype: int64\n"
     ]
    }
   ],
   "execution_count": 7
  },
  {
   "metadata": {},
   "cell_type": "markdown",
   "source": [
    "# observation\n",
    "the data contain no missing data"
   ],
   "id": "a369fa9f298f2d26"
  },
  {
   "metadata": {
    "ExecuteTime": {
     "end_time": "2025-10-22T22:49:19.677123Z",
     "start_time": "2025-10-22T22:49:19.523789Z"
    }
   },
   "cell_type": "code",
   "source": "data.drop('Unnamed: 0', axis=1, inplace=True)\n",
   "id": "a0c493085735bd77",
   "outputs": [
    {
     "ename": "KeyError",
     "evalue": "\"['Unnamed: 0'] not found in axis\"",
     "output_type": "error",
     "traceback": [
      "\u001B[31m---------------------------------------------------------------------------\u001B[39m",
      "\u001B[31mKeyError\u001B[39m                                  Traceback (most recent call last)",
      "\u001B[36mCell\u001B[39m\u001B[36m \u001B[39m\u001B[32mIn[10]\u001B[39m\u001B[32m, line 1\u001B[39m\n\u001B[32m----> \u001B[39m\u001B[32m1\u001B[39m \u001B[43mdata\u001B[49m\u001B[43m.\u001B[49m\u001B[43mdrop\u001B[49m\u001B[43m(\u001B[49m\u001B[33;43m'\u001B[39;49m\u001B[33;43mUnnamed: 0\u001B[39;49m\u001B[33;43m'\u001B[39;49m\u001B[43m,\u001B[49m\u001B[43m \u001B[49m\u001B[43maxis\u001B[49m\u001B[43m=\u001B[49m\u001B[32;43m1\u001B[39;49m\u001B[43m,\u001B[49m\u001B[43m \u001B[49m\u001B[43minplace\u001B[49m\u001B[43m=\u001B[49m\u001B[38;5;28;43;01mTrue\u001B[39;49;00m\u001B[43m)\u001B[49m\n",
      "\u001B[36mFile \u001B[39m\u001B[32m~/Desktop/projects /MachineLearning/CreditScoring/.venv/lib/python3.12/site-packages/pandas/core/frame.py:5581\u001B[39m, in \u001B[36mDataFrame.drop\u001B[39m\u001B[34m(self, labels, axis, index, columns, level, inplace, errors)\u001B[39m\n\u001B[32m   5433\u001B[39m \u001B[38;5;28;01mdef\u001B[39;00m\u001B[38;5;250m \u001B[39m\u001B[34mdrop\u001B[39m(\n\u001B[32m   5434\u001B[39m     \u001B[38;5;28mself\u001B[39m,\n\u001B[32m   5435\u001B[39m     labels: IndexLabel | \u001B[38;5;28;01mNone\u001B[39;00m = \u001B[38;5;28;01mNone\u001B[39;00m,\n\u001B[32m   (...)\u001B[39m\u001B[32m   5442\u001B[39m     errors: IgnoreRaise = \u001B[33m\"\u001B[39m\u001B[33mraise\u001B[39m\u001B[33m\"\u001B[39m,\n\u001B[32m   5443\u001B[39m ) -> DataFrame | \u001B[38;5;28;01mNone\u001B[39;00m:\n\u001B[32m   5444\u001B[39m \u001B[38;5;250m    \u001B[39m\u001B[33;03m\"\"\"\u001B[39;00m\n\u001B[32m   5445\u001B[39m \u001B[33;03m    Drop specified labels from rows or columns.\u001B[39;00m\n\u001B[32m   5446\u001B[39m \n\u001B[32m   (...)\u001B[39m\u001B[32m   5579\u001B[39m \u001B[33;03m            weight  1.0     0.8\u001B[39;00m\n\u001B[32m   5580\u001B[39m \u001B[33;03m    \"\"\"\u001B[39;00m\n\u001B[32m-> \u001B[39m\u001B[32m5581\u001B[39m     \u001B[38;5;28;01mreturn\u001B[39;00m \u001B[38;5;28;43msuper\u001B[39;49m\u001B[43m(\u001B[49m\u001B[43m)\u001B[49m\u001B[43m.\u001B[49m\u001B[43mdrop\u001B[49m\u001B[43m(\u001B[49m\n\u001B[32m   5582\u001B[39m \u001B[43m        \u001B[49m\u001B[43mlabels\u001B[49m\u001B[43m=\u001B[49m\u001B[43mlabels\u001B[49m\u001B[43m,\u001B[49m\n\u001B[32m   5583\u001B[39m \u001B[43m        \u001B[49m\u001B[43maxis\u001B[49m\u001B[43m=\u001B[49m\u001B[43maxis\u001B[49m\u001B[43m,\u001B[49m\n\u001B[32m   5584\u001B[39m \u001B[43m        \u001B[49m\u001B[43mindex\u001B[49m\u001B[43m=\u001B[49m\u001B[43mindex\u001B[49m\u001B[43m,\u001B[49m\n\u001B[32m   5585\u001B[39m \u001B[43m        \u001B[49m\u001B[43mcolumns\u001B[49m\u001B[43m=\u001B[49m\u001B[43mcolumns\u001B[49m\u001B[43m,\u001B[49m\n\u001B[32m   5586\u001B[39m \u001B[43m        \u001B[49m\u001B[43mlevel\u001B[49m\u001B[43m=\u001B[49m\u001B[43mlevel\u001B[49m\u001B[43m,\u001B[49m\n\u001B[32m   5587\u001B[39m \u001B[43m        \u001B[49m\u001B[43minplace\u001B[49m\u001B[43m=\u001B[49m\u001B[43minplace\u001B[49m\u001B[43m,\u001B[49m\n\u001B[32m   5588\u001B[39m \u001B[43m        \u001B[49m\u001B[43merrors\u001B[49m\u001B[43m=\u001B[49m\u001B[43merrors\u001B[49m\u001B[43m,\u001B[49m\n\u001B[32m   5589\u001B[39m \u001B[43m    \u001B[49m\u001B[43m)\u001B[49m\n",
      "\u001B[36mFile \u001B[39m\u001B[32m~/Desktop/projects /MachineLearning/CreditScoring/.venv/lib/python3.12/site-packages/pandas/core/generic.py:4788\u001B[39m, in \u001B[36mNDFrame.drop\u001B[39m\u001B[34m(self, labels, axis, index, columns, level, inplace, errors)\u001B[39m\n\u001B[32m   4786\u001B[39m \u001B[38;5;28;01mfor\u001B[39;00m axis, labels \u001B[38;5;129;01min\u001B[39;00m axes.items():\n\u001B[32m   4787\u001B[39m     \u001B[38;5;28;01mif\u001B[39;00m labels \u001B[38;5;129;01mis\u001B[39;00m \u001B[38;5;129;01mnot\u001B[39;00m \u001B[38;5;28;01mNone\u001B[39;00m:\n\u001B[32m-> \u001B[39m\u001B[32m4788\u001B[39m         obj = \u001B[43mobj\u001B[49m\u001B[43m.\u001B[49m\u001B[43m_drop_axis\u001B[49m\u001B[43m(\u001B[49m\u001B[43mlabels\u001B[49m\u001B[43m,\u001B[49m\u001B[43m \u001B[49m\u001B[43maxis\u001B[49m\u001B[43m,\u001B[49m\u001B[43m \u001B[49m\u001B[43mlevel\u001B[49m\u001B[43m=\u001B[49m\u001B[43mlevel\u001B[49m\u001B[43m,\u001B[49m\u001B[43m \u001B[49m\u001B[43merrors\u001B[49m\u001B[43m=\u001B[49m\u001B[43merrors\u001B[49m\u001B[43m)\u001B[49m\n\u001B[32m   4790\u001B[39m \u001B[38;5;28;01mif\u001B[39;00m inplace:\n\u001B[32m   4791\u001B[39m     \u001B[38;5;28mself\u001B[39m._update_inplace(obj)\n",
      "\u001B[36mFile \u001B[39m\u001B[32m~/Desktop/projects /MachineLearning/CreditScoring/.venv/lib/python3.12/site-packages/pandas/core/generic.py:4830\u001B[39m, in \u001B[36mNDFrame._drop_axis\u001B[39m\u001B[34m(self, labels, axis, level, errors, only_slice)\u001B[39m\n\u001B[32m   4828\u001B[39m         new_axis = axis.drop(labels, level=level, errors=errors)\n\u001B[32m   4829\u001B[39m     \u001B[38;5;28;01melse\u001B[39;00m:\n\u001B[32m-> \u001B[39m\u001B[32m4830\u001B[39m         new_axis = \u001B[43maxis\u001B[49m\u001B[43m.\u001B[49m\u001B[43mdrop\u001B[49m\u001B[43m(\u001B[49m\u001B[43mlabels\u001B[49m\u001B[43m,\u001B[49m\u001B[43m \u001B[49m\u001B[43merrors\u001B[49m\u001B[43m=\u001B[49m\u001B[43merrors\u001B[49m\u001B[43m)\u001B[49m\n\u001B[32m   4831\u001B[39m     indexer = axis.get_indexer(new_axis)\n\u001B[32m   4833\u001B[39m \u001B[38;5;66;03m# Case for non-unique axis\u001B[39;00m\n\u001B[32m   4834\u001B[39m \u001B[38;5;28;01melse\u001B[39;00m:\n",
      "\u001B[36mFile \u001B[39m\u001B[32m~/Desktop/projects /MachineLearning/CreditScoring/.venv/lib/python3.12/site-packages/pandas/core/indexes/base.py:7070\u001B[39m, in \u001B[36mIndex.drop\u001B[39m\u001B[34m(self, labels, errors)\u001B[39m\n\u001B[32m   7068\u001B[39m \u001B[38;5;28;01mif\u001B[39;00m mask.any():\n\u001B[32m   7069\u001B[39m     \u001B[38;5;28;01mif\u001B[39;00m errors != \u001B[33m\"\u001B[39m\u001B[33mignore\u001B[39m\u001B[33m\"\u001B[39m:\n\u001B[32m-> \u001B[39m\u001B[32m7070\u001B[39m         \u001B[38;5;28;01mraise\u001B[39;00m \u001B[38;5;167;01mKeyError\u001B[39;00m(\u001B[33mf\u001B[39m\u001B[33m\"\u001B[39m\u001B[38;5;132;01m{\u001B[39;00mlabels[mask].tolist()\u001B[38;5;132;01m}\u001B[39;00m\u001B[33m not found in axis\u001B[39m\u001B[33m\"\u001B[39m)\n\u001B[32m   7071\u001B[39m     indexer = indexer[~mask]\n\u001B[32m   7072\u001B[39m \u001B[38;5;28;01mreturn\u001B[39;00m \u001B[38;5;28mself\u001B[39m.delete(indexer)\n",
      "\u001B[31mKeyError\u001B[39m: \"['Unnamed: 0'] not found in axis\""
     ]
    }
   ],
   "execution_count": 10
  },
  {
   "metadata": {
    "ExecuteTime": {
     "end_time": "2025-10-22T22:49:28.571993Z",
     "start_time": "2025-10-22T22:49:28.549651Z"
    }
   },
   "cell_type": "code",
   "source": "data.head()",
   "id": "ca01071ec9409d24",
   "outputs": [
    {
     "data": {
      "text/plain": [
       "   index first_name last_name  age Happy_Sad_group  Dosage Drug  \\\n",
       "0    150     Daichi   Steiner   37               S       1    T   \n",
       "1     26      Kaito  Carrasco   35               S       2    A   \n",
       "2     93       Sara    Castro   35               H       2    S   \n",
       "3    115     Ryouta  Carrasco   49               H       3    S   \n",
       "4     55     Daichi  Gonzalez   68               H       3    A   \n",
       "\n",
       "   Mem_Score_Before  Mem_Score_After  \n",
       "0              64.2             57.3  \n",
       "1              75.0             82.9  \n",
       "2              46.0             43.2  \n",
       "3              62.8             54.1  \n",
       "4              41.9             67.4  "
      ],
      "text/html": [
       "<div>\n",
       "<style scoped>\n",
       "    .dataframe tbody tr th:only-of-type {\n",
       "        vertical-align: middle;\n",
       "    }\n",
       "\n",
       "    .dataframe tbody tr th {\n",
       "        vertical-align: top;\n",
       "    }\n",
       "\n",
       "    .dataframe thead th {\n",
       "        text-align: right;\n",
       "    }\n",
       "</style>\n",
       "<table border=\"1\" class=\"dataframe\">\n",
       "  <thead>\n",
       "    <tr style=\"text-align: right;\">\n",
       "      <th></th>\n",
       "      <th>index</th>\n",
       "      <th>first_name</th>\n",
       "      <th>last_name</th>\n",
       "      <th>age</th>\n",
       "      <th>Happy_Sad_group</th>\n",
       "      <th>Dosage</th>\n",
       "      <th>Drug</th>\n",
       "      <th>Mem_Score_Before</th>\n",
       "      <th>Mem_Score_After</th>\n",
       "    </tr>\n",
       "  </thead>\n",
       "  <tbody>\n",
       "    <tr>\n",
       "      <th>0</th>\n",
       "      <td>150</td>\n",
       "      <td>Daichi</td>\n",
       "      <td>Steiner</td>\n",
       "      <td>37</td>\n",
       "      <td>S</td>\n",
       "      <td>1</td>\n",
       "      <td>T</td>\n",
       "      <td>64.2</td>\n",
       "      <td>57.3</td>\n",
       "    </tr>\n",
       "    <tr>\n",
       "      <th>1</th>\n",
       "      <td>26</td>\n",
       "      <td>Kaito</td>\n",
       "      <td>Carrasco</td>\n",
       "      <td>35</td>\n",
       "      <td>S</td>\n",
       "      <td>2</td>\n",
       "      <td>A</td>\n",
       "      <td>75.0</td>\n",
       "      <td>82.9</td>\n",
       "    </tr>\n",
       "    <tr>\n",
       "      <th>2</th>\n",
       "      <td>93</td>\n",
       "      <td>Sara</td>\n",
       "      <td>Castro</td>\n",
       "      <td>35</td>\n",
       "      <td>H</td>\n",
       "      <td>2</td>\n",
       "      <td>S</td>\n",
       "      <td>46.0</td>\n",
       "      <td>43.2</td>\n",
       "    </tr>\n",
       "    <tr>\n",
       "      <th>3</th>\n",
       "      <td>115</td>\n",
       "      <td>Ryouta</td>\n",
       "      <td>Carrasco</td>\n",
       "      <td>49</td>\n",
       "      <td>H</td>\n",
       "      <td>3</td>\n",
       "      <td>S</td>\n",
       "      <td>62.8</td>\n",
       "      <td>54.1</td>\n",
       "    </tr>\n",
       "    <tr>\n",
       "      <th>4</th>\n",
       "      <td>55</td>\n",
       "      <td>Daichi</td>\n",
       "      <td>Gonzalez</td>\n",
       "      <td>68</td>\n",
       "      <td>H</td>\n",
       "      <td>3</td>\n",
       "      <td>A</td>\n",
       "      <td>41.9</td>\n",
       "      <td>67.4</td>\n",
       "    </tr>\n",
       "  </tbody>\n",
       "</table>\n",
       "</div>"
      ]
     },
     "execution_count": 11,
     "metadata": {},
     "output_type": "execute_result"
    }
   ],
   "execution_count": 11
  },
  {
   "metadata": {
    "ExecuteTime": {
     "end_time": "2025-10-22T22:51:55.261960Z",
     "start_time": "2025-10-22T22:51:55.181719Z"
    }
   },
   "cell_type": "code",
   "source": [
    "data.drop('index', axis=1, inplace=True)\n",
    "data.drop('first_name', axis=1, inplace=True)\n",
    "data.drop('last_name', axis=1, inplace=True)"
   ],
   "id": "923f199e3b5da3a4",
   "outputs": [],
   "execution_count": 12
  },
  {
   "metadata": {},
   "cell_type": "markdown",
   "source": "",
   "id": "f3dbf95fca02da6"
  },
  {
   "metadata": {
    "ExecuteTime": {
     "end_time": "2025-10-22T23:02:43.276824Z",
     "start_time": "2025-10-22T23:02:43.089300Z"
    }
   },
   "cell_type": "code",
   "source": [
    "from src.module_Support import check_unique_values\n",
    "check_unique_values(data)"
   ],
   "id": "5ad97cf23f15f1f5",
   "outputs": [
    {
     "name": "stdout",
     "output_type": "stream",
     "text": [
      "Found 2 categorical column(s) to check.\n"
     ]
    },
    {
     "data": {
      "text/plain": [
       "{'Happy_Sad_group': ['S', 'H'], 'Drug': ['T', 'A', 'S']}"
      ]
     },
     "execution_count": 13,
     "metadata": {},
     "output_type": "execute_result"
    }
   ],
   "execution_count": 13
  },
  {
   "metadata": {
    "ExecuteTime": {
     "end_time": "2025-10-22T23:03:19.544759Z",
     "start_time": "2025-10-22T23:03:19.105741Z"
    }
   },
   "cell_type": "code",
   "source": "",
   "id": "2bf6df670fe62eb9",
   "outputs": [
    {
     "ename": "AttributeError",
     "evalue": "'DataFrame' object has no attribute 'checK_unique_values'",
     "output_type": "error",
     "traceback": [
      "\u001B[31m---------------------------------------------------------------------------\u001B[39m",
      "\u001B[31mAttributeError\u001B[39m                            Traceback (most recent call last)",
      "\u001B[32m/var/folders/1r/hzhk9p392_z_94bzm0ymrvlr0000gn/T/ipykernel_35591/936947781.py\u001B[39m in \u001B[36m?\u001B[39m\u001B[34m()\u001B[39m\n\u001B[32m----> \u001B[39m\u001B[32m1\u001B[39m data.checK_unique_values()\n",
      "\u001B[32m~/Desktop/projects /MachineLearning/CreditScoring/.venv/lib/python3.12/site-packages/pandas/core/generic.py\u001B[39m in \u001B[36m?\u001B[39m\u001B[34m(self, name)\u001B[39m\n\u001B[32m   6295\u001B[39m             \u001B[38;5;28;01mand\u001B[39;00m name \u001B[38;5;28;01mnot\u001B[39;00m \u001B[38;5;28;01min\u001B[39;00m self._accessors\n\u001B[32m   6296\u001B[39m             \u001B[38;5;28;01mand\u001B[39;00m self._info_axis._can_hold_identifiers_and_holds_name(name)\n\u001B[32m   6297\u001B[39m         ):\n\u001B[32m   6298\u001B[39m             \u001B[38;5;28;01mreturn\u001B[39;00m self[name]\n\u001B[32m-> \u001B[39m\u001B[32m6299\u001B[39m         \u001B[38;5;28;01mreturn\u001B[39;00m object.__getattribute__(self, name)\n",
      "\u001B[31mAttributeError\u001B[39m: 'DataFrame' object has no attribute 'checK_unique_values'"
     ]
    }
   ],
   "execution_count": 14
  },
  {
   "metadata": {},
   "cell_type": "code",
   "outputs": [],
   "execution_count": null,
   "source": "",
   "id": "75faaf4187076554"
  }
 ],
 "metadata": {
  "kernelspec": {
   "display_name": "Python 3",
   "language": "python",
   "name": "python3"
  },
  "language_info": {
   "codemirror_mode": {
    "name": "ipython",
    "version": 2
   },
   "file_extension": ".py",
   "mimetype": "text/x-python",
   "name": "python",
   "nbconvert_exporter": "python",
   "pygments_lexer": "ipython2",
   "version": "2.7.6"
  }
 },
 "nbformat": 4,
 "nbformat_minor": 5
}
